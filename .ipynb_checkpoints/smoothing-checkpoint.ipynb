{
 "cells": [
  {
   "cell_type": "markdown",
   "id": "8c2cc59c",
   "metadata": {},
   "source": [
    "## Summary of Concepts \n",
    "\n",
    "<ol>\n",
    "    <li> Descriptive analysis of time series. trends and cycles</li>\n",
    "    <li> Modeling time series. Stationarity. Auto-correlation. </li>\n",
    "    <li> Prediction. Partial autocorrelation </li>\n",
    "    <li> Statistics of stationary time series </li>\n",
    "    <li> ARMA Models </li>\n",
    "    <li> Calibration of ARMA Models </li>\n",
    "    <li> Non-Stationarity. ARIMA Models </li>\n",
    "    <li> Seasonality. SARIMA Models </li>\n",
    "    <li> Long Memory. ARFIME Models </li>\n",
    "    <li> Heterocedasticity. GARCH Models</li>\n",
    "    <li> Intervention Analysis</li>\n",
    "    <li> State-Space Models. Kalman recursions</li>\n",
    "</ol>"
   ]
  },
  {
   "cell_type": "code",
   "execution_count": null,
   "id": "0df52850",
   "metadata": {},
   "outputs": [],
   "source": []
  }
 ],
 "metadata": {
  "kernelspec": {
   "display_name": "Python 3",
   "language": "python",
   "name": "python3"
  },
  "language_info": {
   "codemirror_mode": {
    "name": "ipython",
    "version": 3
   },
   "file_extension": ".py",
   "mimetype": "text/x-python",
   "name": "python",
   "nbconvert_exporter": "python",
   "pygments_lexer": "ipython3",
   "version": "3.8.3"
  }
 },
 "nbformat": 4,
 "nbformat_minor": 5
}
