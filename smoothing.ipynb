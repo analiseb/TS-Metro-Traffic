{
 "cells": [
  {
   "cell_type": "markdown",
   "id": "8c2cc59c",
   "metadata": {},
   "source": [
    "## Summary of Concepts \n",
    "\n",
    "<ol>\n",
    "    <li> Descriptive analysis of time series. trends and cycles</li>\n",
    "    <li> Modeling time series. Stationarity. Auto-correlation. </li>\n",
    "    <li> Prediction. Partial autocorrelation </li>\n",
    "    <li> Statistics of stationary time series </li>\n",
    "    <li> ARMA Models </li>\n",
    "    <li> Calibration of ARMA Models </li>\n",
    "    <li> Non-Stationarity. ARIMA Models </li>\n",
    "    <li> Seasonality. SARIMA Models </li>\n",
    "    <li> Long Memory. ARFIME Models </li>\n",
    "    <li> Heterocedasticity. GARCH Models</li>\n",
    "    <li> Intervention Analysis</li>\n",
    "    <li> State-Space Models. Kalman recursions</li>\n",
    "</ol>"
   ]
  },
  {
   "cell_type": "code",
   "execution_count": 1,
   "id": "0df52850",
   "metadata": {},
   "outputs": [
    {
     "name": "stderr",
     "output_type": "stream",
     "text": [
      "Registered S3 method overwritten by 'quantmod':\n",
      "  method            from\n",
      "  as.zoo.data.frame zoo \n",
      "\n"
     ]
    }
   ],
   "source": [
    "library('ggplot2')\n",
    "library('tseries')\n",
    "library('forecast')\n",
    "library('datasets')\n",
    "library('fracdiff')"
   ]
  },
  {
   "cell_type": "code",
   "execution_count": 2,
   "id": "07fbe331",
   "metadata": {},
   "outputs": [
    {
     "data": {
      "text/html": [
       "<table class=\"dataframe\">\n",
       "<caption>A data.frame: 6 × 9</caption>\n",
       "<thead>\n",
       "\t<tr><th></th><th scope=col>date_time</th><th scope=col>traffic_volume</th><th scope=col>weather_main</th><th scope=col>temp</th><th scope=col>clouds_all</th><th scope=col>weekday</th><th scope=col>hour</th><th scope=col>month</th><th scope=col>year</th></tr>\n",
       "\t<tr><th></th><th scope=col>&lt;chr&gt;</th><th scope=col>&lt;int&gt;</th><th scope=col>&lt;chr&gt;</th><th scope=col>&lt;dbl&gt;</th><th scope=col>&lt;int&gt;</th><th scope=col>&lt;chr&gt;</th><th scope=col>&lt;int&gt;</th><th scope=col>&lt;int&gt;</th><th scope=col>&lt;int&gt;</th></tr>\n",
       "</thead>\n",
       "<tbody>\n",
       "\t<tr><th scope=row>1</th><td>2015-09-30 00:00:00</td><td> 551</td><td>Clear</td><td>278.65</td><td>1</td><td>Wednesday</td><td>0</td><td>9</td><td>2015</td></tr>\n",
       "\t<tr><th scope=row>2</th><td>2015-09-30 02:00:00</td><td> 273</td><td>Clear</td><td>277.54</td><td>1</td><td>Wednesday</td><td>2</td><td>9</td><td>2015</td></tr>\n",
       "\t<tr><th scope=row>3</th><td>2015-09-30 03:00:00</td><td> 348</td><td>Clear</td><td>277.34</td><td>1</td><td>Wednesday</td><td>3</td><td>9</td><td>2015</td></tr>\n",
       "\t<tr><th scope=row>4</th><td>2015-09-30 04:00:00</td><td> 947</td><td>Clear</td><td>277.21</td><td>1</td><td>Wednesday</td><td>4</td><td>9</td><td>2015</td></tr>\n",
       "\t<tr><th scope=row>5</th><td>2015-09-30 05:00:00</td><td>3021</td><td>Clear</td><td>276.89</td><td>1</td><td>Wednesday</td><td>5</td><td>9</td><td>2015</td></tr>\n",
       "\t<tr><th scope=row>6</th><td>2015-09-30 06:00:00</td><td>5814</td><td>Clear</td><td>276.81</td><td>1</td><td>Wednesday</td><td>6</td><td>9</td><td>2015</td></tr>\n",
       "</tbody>\n",
       "</table>\n"
      ],
      "text/latex": [
       "A data.frame: 6 × 9\n",
       "\\begin{tabular}{r|lllllllll}\n",
       "  & date\\_time & traffic\\_volume & weather\\_main & temp & clouds\\_all & weekday & hour & month & year\\\\\n",
       "  & <chr> & <int> & <chr> & <dbl> & <int> & <chr> & <int> & <int> & <int>\\\\\n",
       "\\hline\n",
       "\t1 & 2015-09-30 00:00:00 &  551 & Clear & 278.65 & 1 & Wednesday & 0 & 9 & 2015\\\\\n",
       "\t2 & 2015-09-30 02:00:00 &  273 & Clear & 277.54 & 1 & Wednesday & 2 & 9 & 2015\\\\\n",
       "\t3 & 2015-09-30 03:00:00 &  348 & Clear & 277.34 & 1 & Wednesday & 3 & 9 & 2015\\\\\n",
       "\t4 & 2015-09-30 04:00:00 &  947 & Clear & 277.21 & 1 & Wednesday & 4 & 9 & 2015\\\\\n",
       "\t5 & 2015-09-30 05:00:00 & 3021 & Clear & 276.89 & 1 & Wednesday & 5 & 9 & 2015\\\\\n",
       "\t6 & 2015-09-30 06:00:00 & 5814 & Clear & 276.81 & 1 & Wednesday & 6 & 9 & 2015\\\\\n",
       "\\end{tabular}\n"
      ],
      "text/markdown": [
       "\n",
       "A data.frame: 6 × 9\n",
       "\n",
       "| <!--/--> | date_time &lt;chr&gt; | traffic_volume &lt;int&gt; | weather_main &lt;chr&gt; | temp &lt;dbl&gt; | clouds_all &lt;int&gt; | weekday &lt;chr&gt; | hour &lt;int&gt; | month &lt;int&gt; | year &lt;int&gt; |\n",
       "|---|---|---|---|---|---|---|---|---|---|\n",
       "| 1 | 2015-09-30 00:00:00 |  551 | Clear | 278.65 | 1 | Wednesday | 0 | 9 | 2015 |\n",
       "| 2 | 2015-09-30 02:00:00 |  273 | Clear | 277.54 | 1 | Wednesday | 2 | 9 | 2015 |\n",
       "| 3 | 2015-09-30 03:00:00 |  348 | Clear | 277.34 | 1 | Wednesday | 3 | 9 | 2015 |\n",
       "| 4 | 2015-09-30 04:00:00 |  947 | Clear | 277.21 | 1 | Wednesday | 4 | 9 | 2015 |\n",
       "| 5 | 2015-09-30 05:00:00 | 3021 | Clear | 276.89 | 1 | Wednesday | 5 | 9 | 2015 |\n",
       "| 6 | 2015-09-30 06:00:00 | 5814 | Clear | 276.81 | 1 | Wednesday | 6 | 9 | 2015 |\n",
       "\n"
      ],
      "text/plain": [
       "  date_time           traffic_volume weather_main temp   clouds_all weekday  \n",
       "1 2015-09-30 00:00:00  551           Clear        278.65 1          Wednesday\n",
       "2 2015-09-30 02:00:00  273           Clear        277.54 1          Wednesday\n",
       "3 2015-09-30 03:00:00  348           Clear        277.34 1          Wednesday\n",
       "4 2015-09-30 04:00:00  947           Clear        277.21 1          Wednesday\n",
       "5 2015-09-30 05:00:00 3021           Clear        276.89 1          Wednesday\n",
       "6 2015-09-30 06:00:00 5814           Clear        276.81 1          Wednesday\n",
       "  hour month year\n",
       "1 0    9     2015\n",
       "2 2    9     2015\n",
       "3 3    9     2015\n",
       "4 4    9     2015\n",
       "5 5    9     2015\n",
       "6 6    9     2015"
      ]
     },
     "metadata": {},
     "output_type": "display_data"
    }
   ],
   "source": [
    "data <- read.csv(file = 'data/clean_met.csv')\n",
    "head(data)"
   ]
  },
  {
   "cell_type": "code",
   "execution_count": 11,
   "id": "9aa5d6d6",
   "metadata": {},
   "outputs": [],
   "source": [
    "ts = ts(data[,'traffic_volume'],\n",
    "        frequency = 24,  ## observed 24 x 3 x yearly seasonality (24*12)\n",
    "        start = 2012)"
   ]
  },
  {
   "cell_type": "code",
   "execution_count": 16,
   "id": "4e47b415",
   "metadata": {},
   "outputs": [
    {
     "data": {
      "image/png": "[encoded data removed]",
      "text/plain": [
       "plot without title"
      ]
     },
     "metadata": {
      "image/png": {
       "height": 420,
       "width": 420
      }
     },
     "output_type": "display_data"
    }
   ],
   "source": [
    "plot(ts,\n",
    "     type='l', \n",
    "     xlim=c(0,1000))"
   ]
  },
  {
   "cell_type": "code",
   "execution_count": null,
   "id": "ab523a38",
   "metadata": {},
   "outputs": [],
   "source": []
  }
 ],
 "metadata": {
  "kernelspec": {
   "display_name": "R",
   "language": "R",
   "name": "ir"
  },
  "language_info": {
   "codemirror_mode": "r",
   "file_extension": ".r",
   "mimetype": "text/x-r-source",
   "name": "R",
   "pygments_lexer": "r",
   "version": "4.2.0"
  }
 },
 "nbformat": 4,
 "nbformat_minor": 5
}
