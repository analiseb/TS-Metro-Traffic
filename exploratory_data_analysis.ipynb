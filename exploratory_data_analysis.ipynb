{
 "cells": [
  {
   "cell_type": "markdown",
   "id": "8c2cc59c",
   "metadata": {},
   "source": [
    "## Summary of Concepts \n",
    "\n",
    "<ol>\n",
    "    <li> Descriptive analysis of time series. trends and cycles</li>\n",
    "    <li> Modeling time series. Stationarity. Auto-correlation. </li>\n",
    "    <li> Prediction. Partial autocorrelation </li>\n",
    "    <li> Statistics of stationary time series </li>\n",
    "    <li> ARMA Models </li>\n",
    "    <li> Calibration of ARMA Models </li>\n",
    "    <li> Non-Stationarity. ARIMA Models </li>\n",
    "    <li> Seasonality. SARIMA Models </li>\n",
    "    <li> Long Memory. ARFIME Models </li>\n",
    "    <li> Heterocedasticity. GARCH Models</li>\n",
    "    <li> Intervention Analysis</li>\n",
    "    <li> State-Space Models. Kalman recursions</li>\n",
    "</ol>"
   ]
  },
  {
   "cell_type": "code",
   "execution_count": 4,
   "id": "0df52850",
   "metadata": {},
   "outputs": [],
   "source": [
    "library('ggplot2')\n",
    "library('plotly')\n",
    "library('tseries')\n",
    "library('forecast')\n",
    "library('datasets')\n",
    "library('fracdiff')"
   ]
  },
  {
   "cell_type": "code",
   "execution_count": 5,
   "id": "07fbe331",
   "metadata": {},
   "outputs": [
    {
     "data": {
      "text/html": [
       "<table class=\"dataframe\">\n",
       "<caption>A data.frame: 6 × 9</caption>\n",
       "<thead>\n",
       "\t<tr><th></th><th scope=col>holiday</th><th scope=col>temp</th><th scope=col>rain_1h</th><th scope=col>snow_1h</th><th scope=col>clouds_all</th><th scope=col>weather_main</th><th scope=col>weather_description</th><th scope=col>date_time</th><th scope=col>traffic_volume</th></tr>\n",
       "\t<tr><th></th><th scope=col>&lt;chr&gt;</th><th scope=col>&lt;dbl&gt;</th><th scope=col>&lt;dbl&gt;</th><th scope=col>&lt;dbl&gt;</th><th scope=col>&lt;int&gt;</th><th scope=col>&lt;chr&gt;</th><th scope=col>&lt;chr&gt;</th><th scope=col>&lt;chr&gt;</th><th scope=col>&lt;int&gt;</th></tr>\n",
       "</thead>\n",
       "<tbody>\n",
       "\t<tr><th scope=row>1</th><td>None</td><td>288.28</td><td>0</td><td>0</td><td>40</td><td>Clouds</td><td>scattered clouds</td><td>2012-10-02 09:00:00</td><td>5545</td></tr>\n",
       "\t<tr><th scope=row>2</th><td>None</td><td>289.36</td><td>0</td><td>0</td><td>75</td><td>Clouds</td><td>broken clouds   </td><td>2012-10-02 10:00:00</td><td>4516</td></tr>\n",
       "\t<tr><th scope=row>3</th><td>None</td><td>289.58</td><td>0</td><td>0</td><td>90</td><td>Clouds</td><td>overcast clouds </td><td>2012-10-02 11:00:00</td><td>4767</td></tr>\n",
       "\t<tr><th scope=row>4</th><td>None</td><td>290.13</td><td>0</td><td>0</td><td>90</td><td>Clouds</td><td>overcast clouds </td><td>2012-10-02 12:00:00</td><td>5026</td></tr>\n",
       "\t<tr><th scope=row>5</th><td>None</td><td>291.14</td><td>0</td><td>0</td><td>75</td><td>Clouds</td><td>broken clouds   </td><td>2012-10-02 13:00:00</td><td>4918</td></tr>\n",
       "\t<tr><th scope=row>6</th><td>None</td><td>291.72</td><td>0</td><td>0</td><td> 1</td><td>Clear </td><td>sky is clear    </td><td>2012-10-02 14:00:00</td><td>5181</td></tr>\n",
       "</tbody>\n",
       "</table>\n"
      ],
      "text/latex": [
       "A data.frame: 6 × 9\n",
       "\\begin{tabular}{r|lllllllll}\n",
       "  & holiday & temp & rain\\_1h & snow\\_1h & clouds\\_all & weather\\_main & weather\\_description & date\\_time & traffic\\_volume\\\\\n",
       "  & <chr> & <dbl> & <dbl> & <dbl> & <int> & <chr> & <chr> & <chr> & <int>\\\\\n",
       "\\hline\n",
       "\t1 & None & 288.28 & 0 & 0 & 40 & Clouds & scattered clouds & 2012-10-02 09:00:00 & 5545\\\\\n",
       "\t2 & None & 289.36 & 0 & 0 & 75 & Clouds & broken clouds    & 2012-10-02 10:00:00 & 4516\\\\\n",
       "\t3 & None & 289.58 & 0 & 0 & 90 & Clouds & overcast clouds  & 2012-10-02 11:00:00 & 4767\\\\\n",
       "\t4 & None & 290.13 & 0 & 0 & 90 & Clouds & overcast clouds  & 2012-10-02 12:00:00 & 5026\\\\\n",
       "\t5 & None & 291.14 & 0 & 0 & 75 & Clouds & broken clouds    & 2012-10-02 13:00:00 & 4918\\\\\n",
       "\t6 & None & 291.72 & 0 & 0 &  1 & Clear  & sky is clear     & 2012-10-02 14:00:00 & 5181\\\\\n",
       "\\end{tabular}\n"
      ],
      "text/markdown": [
       "\n",
       "A data.frame: 6 × 9\n",
       "\n",
       "| <!--/--> | holiday &lt;chr&gt; | temp &lt;dbl&gt; | rain_1h &lt;dbl&gt; | snow_1h &lt;dbl&gt; | clouds_all &lt;int&gt; | weather_main &lt;chr&gt; | weather_description &lt;chr&gt; | date_time &lt;chr&gt; | traffic_volume &lt;int&gt; |\n",
       "|---|---|---|---|---|---|---|---|---|---|\n",
       "| 1 | None | 288.28 | 0 | 0 | 40 | Clouds | scattered clouds | 2012-10-02 09:00:00 | 5545 |\n",
       "| 2 | None | 289.36 | 0 | 0 | 75 | Clouds | broken clouds    | 2012-10-02 10:00:00 | 4516 |\n",
       "| 3 | None | 289.58 | 0 | 0 | 90 | Clouds | overcast clouds  | 2012-10-02 11:00:00 | 4767 |\n",
       "| 4 | None | 290.13 | 0 | 0 | 90 | Clouds | overcast clouds  | 2012-10-02 12:00:00 | 5026 |\n",
       "| 5 | None | 291.14 | 0 | 0 | 75 | Clouds | broken clouds    | 2012-10-02 13:00:00 | 4918 |\n",
       "| 6 | None | 291.72 | 0 | 0 |  1 | Clear  | sky is clear     | 2012-10-02 14:00:00 | 5181 |\n",
       "\n"
      ],
      "text/plain": [
       "  holiday temp   rain_1h snow_1h clouds_all weather_main weather_description\n",
       "1 None    288.28 0       0       40         Clouds       scattered clouds   \n",
       "2 None    289.36 0       0       75         Clouds       broken clouds      \n",
       "3 None    289.58 0       0       90         Clouds       overcast clouds    \n",
       "4 None    290.13 0       0       90         Clouds       overcast clouds    \n",
       "5 None    291.14 0       0       75         Clouds       broken clouds      \n",
       "6 None    291.72 0       0        1         Clear        sky is clear       \n",
       "  date_time           traffic_volume\n",
       "1 2012-10-02 09:00:00 5545          \n",
       "2 2012-10-02 10:00:00 4516          \n",
       "3 2012-10-02 11:00:00 4767          \n",
       "4 2012-10-02 12:00:00 5026          \n",
       "5 2012-10-02 13:00:00 4918          \n",
       "6 2012-10-02 14:00:00 5181          "
      ]
     },
     "metadata": {},
     "output_type": "display_data"
    }
   ],
   "source": [
    "data <- read.csv(file = 'data/Metro_Interstate_Traffic_Volume.csv')\n",
    "head(data)"
   ]
  },
  {
   "cell_type": "code",
   "execution_count": null,
   "id": "9aa5d6d6",
   "metadata": {},
   "outputs": [],
   "source": []
  }
 ],
 "metadata": {
  "kernelspec": {
   "display_name": "R",
   "language": "R",
   "name": "ir"
  },
  "language_info": {
   "codemirror_mode": "r",
   "file_extension": ".r",
   "mimetype": "text/x-r-source",
   "name": "R",
   "pygments_lexer": "r",
   "version": "4.2.0"
  }
 },
 "nbformat": 4,
 "nbformat_minor": 5
}
